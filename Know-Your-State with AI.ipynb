{
 "cells": [
  {
   "cell_type": "markdown",
   "metadata": {
    "id": "m_FeN-Ep4Rpp"
   },
   "source": [
    "Install the required dependencies:"
   ]
  },
  {
   "cell_type": "code",
   "execution_count": 1,
   "metadata": {
    "executionInfo": {
     "elapsed": 4617,
     "status": "ok",
     "timestamp": 1742910990570,
     "user": {
      "displayName": "Suraj Gupta",
      "userId": "15529907204260272384"
     },
     "user_tz": -330
    },
    "id": "Uk0qUhJUQrkO"
   },
   "outputs": [],
   "source": [
    "!pip install -q cassio datasets langchain openai tiktoken -U langchain-community"
   ]
  },
  {
   "cell_type": "markdown",
   "metadata": {
    "id": "XQQN-L2J4Rpq"
   },
   "source": [
    "Import the packages you'll need:"
   ]
  },
  {
   "cell_type": "code",
   "execution_count": 2,
   "metadata": {
    "executionInfo": {
     "elapsed": 2692,
     "status": "ok",
     "timestamp": 1742910993263,
     "user": {
      "displayName": "Suraj Gupta",
      "userId": "15529907204260272384"
     },
     "user_tz": -330
    },
    "id": "V4qBIihE4Rpq"
   },
   "outputs": [],
   "source": [
    "# LangChain components to use\n",
    "from langchain.vectorstores.cassandra import Cassandra\n",
    "from langchain.indexes.vectorstore import VectorStoreIndexWrapper\n",
    "from langchain.llms import OpenAI\n",
    "from langchain.embeddings import OpenAIEmbeddings\n",
    "\n",
    "# Support for dataset retrieval with Hugging Face\n",
    "from datasets import load_dataset\n",
    "\n",
    "# With CassIO, the engine powering the Astra DB integration in LangChain,\n",
    "# you will also initialize the DB connection:\n",
    "import cassio"
   ]
  },
  {
   "cell_type": "code",
   "execution_count": 3,
   "metadata": {
    "colab": {
     "base_uri": "https://localhost:8080/"
    },
    "executionInfo": {
     "elapsed": 2351,
     "status": "ok",
     "timestamp": 1742910995607,
     "user": {
      "displayName": "Suraj Gupta",
      "userId": "15529907204260272384"
     },
     "user_tz": -330
    },
    "id": "WIs76OPQ6JyD",
    "outputId": "f5689a0e-d9ae-4e15-fde9-e9c660b7606d"
   },
   "outputs": [
    {
     "name": "stdout",
     "output_type": "stream",
     "text": [
      "Requirement already satisfied: PyPDF2 in /usr/local/lib/python3.11/dist-packages (3.0.1)\n"
     ]
    }
   ],
   "source": [
    "!pip install PyPDF2"
   ]
  },
  {
   "cell_type": "code",
   "execution_count": 4,
   "metadata": {
    "executionInfo": {
     "elapsed": 2,
     "status": "ok",
     "timestamp": 1742910995621,
     "user": {
      "displayName": "Suraj Gupta",
      "userId": "15529907204260272384"
     },
     "user_tz": -330
    },
    "id": "ks7Fr9Vwk1sG"
   },
   "outputs": [],
   "source": [
    "import warnings\n",
    "warnings.filterwarnings(\"ignore\", category=FutureWarning)"
   ]
  },
  {
   "cell_type": "code",
   "execution_count": 5,
   "metadata": {
    "executionInfo": {
     "elapsed": 1,
     "status": "ok",
     "timestamp": 1742910995623,
     "user": {
      "displayName": "Suraj Gupta",
      "userId": "15529907204260272384"
     },
     "user_tz": -330
    },
    "id": "1itBNL1v6N9-"
   },
   "outputs": [],
   "source": [
    "from PyPDF2 import PdfReader"
   ]
  },
  {
   "cell_type": "markdown",
   "metadata": {
    "id": "Vu2UauiC4Rpr"
   },
   "source": [
    "### Setup"
   ]
  },
  {
   "cell_type": "code",
   "execution_count": null,
   "metadata": {
    "executionInfo": {
     "elapsed": 1,
     "status": "ok",
     "timestamp": 1742910995637,
     "user": {
      "displayName": "Suraj Gupta",
      "userId": "15529907204260272384"
     },
     "user_tz": -330
    },
    "id": "eqpM6I854Rpr"
   },
   "outputs": [],
   "source": [
    "ASTRA_DB_APPLICATION_TOKEN = \"AstraCS:OGpDInhrKNBmGZLpgi:334f87685233e893e76471503162cc3c86ac9e0b71cfd9da24ee\" # enter the \"AstraCS:...\" string found in in your Token JSON file\n",
    "ASTRA_DB_ID = \"b16a94e0-4076-b076-dca0cb4d00be\" # enter your Database ID\n",
    "\n",
    "OPENAI_API_KEY = \"sk-.....\" # enter your OpenAI key"
   ]
  },
  {
   "cell_type": "markdown",
   "metadata": {
    "id": "Q1cmD5EF4Rpr"
   },
   "source": [
    "#### Provide your secrets:\n",
    "\n",
    "Replace the following with your Astra DB connection details and your OpenAI API key:"
   ]
  },
  {
   "cell_type": "code",
   "execution_count": 7,
   "metadata": {
    "executionInfo": {
     "elapsed": 1,
     "status": "ok",
     "timestamp": 1742910995639,
     "user": {
      "displayName": "Suraj Gupta",
      "userId": "15529907204260272384"
     },
     "user_tz": -330
    },
    "id": "waVKJW-n6jqJ"
   },
   "outputs": [],
   "source": [
    "# provide the path of  pdf file/files.\n",
    "pdfreader = PdfReader('UP.pdf')"
   ]
  },
  {
   "cell_type": "code",
   "execution_count": 8,
   "metadata": {
    "executionInfo": {
     "elapsed": 1731,
     "status": "ok",
     "timestamp": 1742910997371,
     "user": {
      "displayName": "Suraj Gupta",
      "userId": "15529907204260272384"
     },
     "user_tz": -330
    },
    "id": "42BKuFRO6meP"
   },
   "outputs": [],
   "source": [
    "from typing_extensions import Concatenate\n",
    "# read text from pdf\n",
    "raw_text = ''\n",
    "for i, page in enumerate(pdfreader.pages):\n",
    "    content = page.extract_text()\n",
    "    if content:\n",
    "        raw_text += content"
   ]
  },
  {
   "cell_type": "code",
   "execution_count": 9,
   "metadata": {
    "colab": {
     "base_uri": "https://localhost:8080/",
     "height": 123
    },
    "executionInfo": {
     "elapsed": 346,
     "status": "ok",
     "timestamp": 1742910997722,
     "user": {
      "displayName": "Suraj Gupta",
      "userId": "15529907204260272384"
     },
     "user_tz": -330
    },
    "id": "vR41Iq-4ZHnG",
    "outputId": "be6bfc64-4569-4527-c77e-22156ea24d62"
   },
   "outputs": [
    {
     "data": {
      "application/vnd.google.colaboratory.intrinsic+json": {
       "type": "string"
      },
      "text/plain": [
       "\"Uttar Pradesh\\ndrishtiias.com\\n/printpdf/know-your-state-uttar-pradesh\\nState:\\n Uttar Pradesh (U.P.)\\nFormed:\\n 1 April 1937-as United province\\nStatehood:\\n 26 January 1950-rechristened as Uttar Pradesh\\nCapital:\\n Lucknow\\nGovernor:\\n Ram Naik\\nChief Minister:\\n Yogi Adityanath\\nDeputy Chief Minister(s):\\n Kesav Prasad Maurya, Dr. Dinesh Sharma\\nOfficial language:\\n Hindi\\nOther languages: \\nUrdu, Awadhi, Bundeli, Bhojpuri, etc.\\nMajor Religions:\\n Hinduism, Islam\\nArea: \\n2,40,928 Square km (4th largest in India)\\nPopulation: \\n19,9,812,341 (Most populous in India)\\nPopulation density:\\n 829 per square km\\nSex Ratio:\\n 912 per thousand\\nLiteracy rate: \\n69.72%\\nMale literacy:\\n 79.24%\\nFemale literacy:\\n 59.26%\\n1/41GDP (2018-19):\\n Rs 14.89 Lakh Crore\\nHigh Court:\\n Allahabad High Court\\nDistricts:\\n 75\\nCities and Towns:\\n 915\\nDevelopment blocks:\\n 822\\nNagar Nigams:\\n 17\\nMembers of Lok Sabha from U.P.:\\n 80\\nMembers of Rajya Sabha from U.P.:\\n 31\\nMembers of Legislative Assembly: \\n404\\nMembers of Legislative Council: \\n100\\nState Animal:\\n Barasingha\\nState Bird: \\nSarus Crane\\nPrincipal Crops:\\n Paddy, Wheat,Barley, Millet, Maize, Urad (Black Gram), Moong (Green\\nGram) Arhar etc.\\nPrincipal Minerals:\\n Lime-Stone, Dolomite, Soap Stone, Gypsum, Bauxite, Glass-sand,\\nmanganese, Non-plastic fire clay etc.\\nPrincipal Handicrafts:\\n Chikan-work, Embroidery, wood work, wooden toys and furniture,\\nClay -toys, carpet weaving, Silk & Brassware work.\\nPrincipal Folklores:\\n Birha, Chitee, Kajri, Phaag, Rasia, Alha, Pooran Bhagat, Bhartrahari\\nPrincipal Rivers:\\n Ganga, Yamuna, Gomti, Ram Ganga, Ghagra, Betwa, Ken\\nPrincipal Folkdances:\\n Charkula, Karma, Pandav, Pai-danda, Tharu, Dhobia, Raai, Shaira etc\\nPlaces of historical importance:\\n Piparhava, Kaushambi, Shravasti, Sarnath (varanasi),\\nkushinagar, Chitrakoot, Lucknow, Agra, Jhansi, Meerut etc\\nUttar Pradesh (U.P.) earlier christened as United Provinces is a state located in the \\nnorth-\\ncentral Gangetic plains of India\\n. U.P. has always held a high political significance in Indian\\ndemocracy because it’s home to the \\nlargest share of Indian population\\n and it portrays\\ndynamic social demographics too. U.P. was created in the year 1937 by the British regime\\nunder the name of United Provinces and post independence it was renamed as Uttar\\n2/41pradesh in 1950. \\nLucknow\\n district serves as the capital of U.P.. A total of \\n18 divisions and\\n75 districts\\n constitute this state, whose northern portion was carved out in the year 2000 to\\nform Uttarakhand, the 27\\n state of India. Agriculture is the primary contributor in the\\neconomy of the state and it’s also known as the \\nRice bowl of India\\n.\\nState feature \\nhighly rugged terrain\\n and their \\nelevation ranges from 300 to 5000\\nmts\\n.\\nThe Siwalik range in U.P. plummets down to the \\nBhabhar area,\\n which is a \\nporous bed\\nof coarse pebbles and boulders\\n brought down by the rivers flowing down the Siwalik\\nhills.\\nThe river-streams tend to sink in these porous beds of sediments.\\nBhabhar tract lies along the periphery of Siwalik foothills and it transitions into the\\nTerai region gradually.\\nThis transition belt is termed \\n‘Terai and Bhabhar area’\\n and it is marked by \\nrich\\nforests and various riverstreams\\n. \\nGEOGRAPHY\\nLocation and Landform (Physiography)\\nUttar Pradesh is situated between \\n23°52’N and 31°28’N latitudes\\n and \\n77°3′ and\\n84°39’E longitudes\\n.\\nIt shares its \\nnational boundaries\\n with \\n9 other states\\n i.e., Himachal Pradesh, Delhi,\\nHaryana on the north west; Uttarakhand in the north; Rajasthan touches U.P. from the\\nwest; Madhya Pradesh and Chhattisgarh on the south; Jharkhand to the south-east &\\nBihar lies in its east.\\nInternationally U.P. is \\nlandlocked by Nepal\\n on the north. With an area of \\n29.4 m ha\\n it\\nis the \\nfourth largest state\\n in Indian subcontinent.\\nIt is also the \\nmost populous State\\n.\\nGeomorphologically Uttar Pradesh can be divided into \\n3 major topographical regions\\n:\\n1\\n. \\nSiwalik foothills of Himalayas and the Terai region\\n border U.P. on the north.\\n2\\n. \\nGangetic plains\\n constitute the major central portion of the state.\\n3\\n. \\nVindhya Range and plateau\\n lie in a relatively smaller part of southern U.P.\\nSiwalik Hills and Terai Region\\nSiwalik Range forms the \\nsouthern foothills of the Himalayas\\n which border U.P. on\\nthe north.\\nth\\n3/41The \\nlowland\\n area dispersed with \\nmarshes, thick forests, swamps rich in clay and\\ntall grasslands\\n that runs parallel to the bhabhar tract is called \\nTerai region\\n. This area\\nis composed of \\nfine alluvium\\n primarily sand, clay, silt and gravel.\\nAs the rivers flow down the slopes of Bhabhar and course through the relatively\\nplanar areas of Terai the sediments are deposited in shallow beds, and the sunken\\nriver streams of Bhabhar reemerge on the surface, causing \\nmassive floods\\n.\\nWidth of Bhabhar — 8-16 km\\nWidth of Terai — 15-30 km\\nGangetic Plains\\nGangetic plains are characterised by a \\nflat topography and highly fertile alluvial\\nsoil\\n.\\nThe two-river system called Ganges which includes \\nGanga and Yamuna and their\\ntributaries,\\n that flow down the Himalayas, is responsible for laying in alluvial deposits\\nwhich make the soil of Gangetic plains highly fertile and suitable for growing crops like\\nrice, wheat, barley, gram\\n etc.\\nThese plains span about \\nthree-fourths of the total area of the state,\\n stretching\\nfrom east to west and covering most of its central portion.\\nIts flat topography comprises of several physical features like \\nrivers, lakes, ponds,\\nelevation ranging from 60 mts in the east to 300 mts in the north-west and a\\ngradient of 2 m/sq km\\n.\\nThe Gangetic plains are constituted by the Ganga-Yamuna Doab, the Ganges plains,\\nTerai and the Ghaghra plains; and this entire expanse of alluvial terrain is divided into\\nthree sub-regions\\n:\\nEastern tract: \\nThe eastern tract of Gangetic plains is classified as scarcity region\\nas it is often afflicted with famines and floods, and the agricultural lands of this\\nregion don’t receive adequate irrigation. A total of 14 districts fall under this\\ntract.\\nCentral tract:\\n It is a well irrigated tract but suffers from water logging.\\nWestern tract:\\n This zone is well developed in terms of Agriculture because of\\nexcellent water resources and irrigation systems.\\nVindhya Range And Plateau Region\\nVindhyas are a \\ndiscontinuous range of hills and mountains\\n.\\nThe southernmost stratum of Gangetic plains in U.P. is rendered by \\nhard and varied\\ntopography of hills, highlands and plateaus\\n.\\nWith an \\naverage elevation of 300 mts,\\n this is a \\nlow-lying range\\n that receives \\nsparse\\nrains\\n and is \\ndevoid of adequate water resources,\\n thus farmers in this region resort\\nto \\ndry-farming\\n.\\n4/41Following \\n4 divisions\\n fall under the canopy of this region:\\nBundelkhand plateau – \\nJhansi, Jalaun, Banda, Hamirpur\\nTehsils of Allahabad\\n district\\nMirzapur\\n district\\nChakia Tehsil of Varanasi\\n district\\nWATER RESOURCES (HYDROGEOLOGY)\\nMajor Source of Surface Water:\\n \\nGanges\\n and its tributaries flowing from northwest to the\\nsoutheast direction.\\nBasin:\\n \\nGanga sub-basin\\n of Ganga-Brahmaputra-Meghna Basin\\nMajor Rivers:\\n Ganges, Yamuna, Ghagra, Gomti, Gandak, Son, Kosi, Sarda,etc\\nHydrogeological units:\\n 1. Bhabhar; 2. Terai; 3.Central Ganga plains; 4.Marginal alluvial\\nplains; 5. Southern Peninsular zone (Starting from north to south successively)\\nRainfall:\\n 1279 mm\\n85% average annual rainfall occurs in South-west monsoon season.\\nNorthern and Eastern regions receive highest rainfall, which gradually decreases as\\nwe move to the southern and western U.P.\\nGross Groundwater withdrawal:\\n 5.28 mham(million hectare metres)\\nUttar Pradesh is the \\nlargest user of Groundwater repositories\\n.\\nAlluvial plains constitute a very rich reservoir of groundwater, in form of \\nmultiple\\naquifer system\\n.\\nGroundwater repositories are \\nscarce\\n in \\nBundelkhand\\n.\\nModes of Irrigation: \\n1\\n. \\nLarge tracts of canals and Reservoirs, constructed on the banks of northern and\\nsouthern tributaries of Ganges, irrigate a major part of the plains. \\nThere is no\\nreservoir on the bank of Ganges\\n.\\n2\\n. \\nGroundwater is used for irrigating few ‘scarcity areas’ through borewells.\\n3\\n. \\nRainfed irrigation is limited to the eastern tract.\\nAuthorities for water resource management:\\n5/41State Water Resources Agency (SWARA)\\n is responsible for management, planning &\\nsectoral allocation of water resources to diverse sectors viz. Drinking water,\\ntransportation, Agriculture, Industrial Development, Hydro Power,Entertainment and\\nThermal Power Production.\\nWater Resource Department\\n holds the responsibility of construction, maintenance,\\nregulation of major & medium irrigation projects, flood control & drainage works.\\nFollowing are the major rivers of Uttar Pradesh\\nSl.\\nNo.\\nRiver\\nSource\\nMouth\\nLength\\nDam\\nCourse\\n1.\\nGanga\\nGangotri,\\nUttarakhand\\nGanges\\nDelta\\n2525\\nKm\\nUttarakhand,\\nBihar,\\nJharkhand,\\nW.B.\\n2.\\nYamuna\\nYamunotri\\nGanges\\n1376\\nkm\\nTajewala\\nBarrage Dam,\\nSob river dam\\nUttarakhand,\\nHimachal\\nPradesh,\\nHaryana,\\nDelhi\\n3.\\nGhaghara\\nMapchachungo\\nglacier, Tibet\\nGanges\\n1080\\nkm\\n4.\\nBetwa\\nVindhya range\\nGanges\\nRajghat Dam\\nParichha\\nDam, Matalita\\nDam\\nMadhya\\nPradesh\\n5.\\nChambal\\nJanapav hills,\\nVindhya range\\nGanges\\n960 km\\nRana Pratap\\nSagar Dam,\\nGandhi Sagar\\nDam, Jawahar\\nSagar Dam\\nMadhya\\nPradesh,\\nRajasthan\\n6/416.\\nSon\\nAmarkantak\\nGanges\\n784 km\\nBansagar\\nDam,\\nIndrapuri\\nBarrage\\nMadhya\\nPradesh,\\nJharkhand,\\nBihar\\n7.\\nSarda\\nKalapani\\nGanges\\n350 km\\nPancheshwar\\nDam\\nUttarakhand\\n8.\\nGomti\\nGomat Taal\\nGanges\\n900 km\\n9.\\nKen\\nAhirgawan\\nKaimur range,\\nJbalpur\\nGanges\\n427 km\\nMadhya\\nPradesh\\n10.\\nGandak\\nNhubine Himal\\nGlacier\\nGanges\\n630 km\\nTibet, Nepal\\n11.\\nKosi\\nSun Kosi\\nGanges\\n729 km\\nTibet, Nepal,\\nBihar\\nLakes in Uttar Pradesh\\nLakes in Uttar Pradesh serve the water needs of villages,small towns & remote areas.\\nSeveral species of \\nmigratory birds\\n like siberian cranes, greater Flamingo, Surkhab,\\netc flock these lakes every year.\\nForest Department of Uttar Pradesh is responsible for the maintenance of the lakes in\\nthe state.\\nFollowing are the major lakes in Uttar pradesh:\\nSl.\\nNo.\\nLake\\nLocation\\nType\\nDescription\\n7/411.\\nBarua Sagar\\nTal\\nJhansi\\nArtificial\\nLake\\nNear Fort of Bundelkhand\\n2.\\nBela Sagar\\nTal\\nKulpahar, Belatal\\nArtificial\\nlake\\nLocally k/as Bela Taal.\\n3.\\nChittaura\\nJheel\\nChittaura village,\\nBharaich\\nNatural\\nlake\\nTera nadi flows from it.\\n4.\\nDarwan lake\\nHathpakad & Katehri\\nNatural\\nlake\\n5.\\nGokul\\nBarrage\\nGokul, Mathura\\nBarrage\\n6.\\nKeetham\\nLake\\nAgra-Delhi highway\\nArtificial\\nLake\\nDeclared National Bird\\nSanctuary\\n7.\\nMoti Jheel\\nBenajhabar, Kanpur\\nArtificial\\nlake\\nReferred to as ‘Lungs of\\nKanpur’\\n8.\\nRaja Ka Tal\\nNH 19\\nReservoir\\nAlso k/as Bara Taal.\\n9.\\nRamgarh Tal\\nLake\\nGorakhpur\\n10.\\nShekha Jheel\\nShekha village, near\\nAligarh\\nArtificial\\nlake\\nPopular for the migratory\\nbirds.\\nDams and Reservoirs in Uttar Pradesh\\nPrime Objective:\\n Power generation, storage, drinking water supply, irrigation.\\nMajor Projects: \\nGovind Ballabh Pant Sagar dam, Parichha Dam.\\n8/41Some other Projects:\\n Matalita Dam, Bhainsora Dam, Bachara Dam, Bhagwanpur\\nDam, Baghla Dam, Chittaurgarh Dam, Ganeshpur Dam, etc.\\nLargest man-made reservoir in India:\\n Govind Ballabh Pant Sagar Dam.\\nFollowing is a list of Dams/Reservoirs constructed in U.P.:\\nSl.\\nNo.\\nDam\\nRiver\\nLocation\\nPurpose\\n1.\\nRihand/Govind Ballabh\\nPant Sagar Dam\\nRihand-\\ntributary of\\nSon\\nPipri,\\nSonbhadra\\nElectricity generation\\n2.\\nParichha Dam\\nBetwa River\\nJhansi-\\nKanpur\\nNH25\\nReservoir, Irrigation,\\nWater Sports\\n3.\\nMatalita Dam\\nBetwa River\\nLalitpur\\nDistrict\\nIrrigation\\n4.\\nJamini Dam\\nJamni River\\nMahrauni,\\nLalitpur\\nIrrigation\\n5.\\nRohini Dam\\nRohini River\\nLalitpur\\nIrrigation\\n6.\\nShahzad Dam\\nShahzad River\\nOutskirts of\\nLalitpur\\nIrrigation\\n7.\\nGovind Sagar Dam\\nShahzad River\\nLalitpur\\nIrrigation\\n8.\\nSarda Sagar Dam\\nSharda river\\nPuranpur,\\nPilibhit\\nIrrigation\\nCLIMATE\\nClimate Type:\\n Tropical monsoon or Humid subtropical with dry winters\\n9/41Temperature range:\\n 0\\n℃\\n – 50\\n℃\\nSeasons:\\n1\\n. \\nSummer/Thunderstorm/Pre-monsoon\\n2\\n. \\nSouth-West Monsoon\\n3\\n. \\nRetreating Monsoon\\n4\\n. \\nWinter\\nMeteorological Subdivisions:\\n U.P. East & U.P. West\\nSummer Season\\nTemperature range:\\n 45\\n℃\\n – 48\\n℃\\nSpan:\\n March to May\\nFeatures:\\n Hot & Dry, Dust laden storms, Low Relative Humidity\\nSouth-West Monsoon Season\\nTemperature Range:\\n 40\\n℃\\n – 45\\n℃\\nSpan:\\n June-September\\nRainfall:\\n 1279 mm (85%of average annual rainfall)\\nWinter Season\\nTemperature Range:\\n 0\\n℃\\n – 4\\n℃\\nSpan:\\n October – February\\nFeatures:\\n Foggy conditions\\nAs Gangetic plains take up majority of area in the state, therefore climatic conditions\\nare more or less uniform throughout the state, except for a few regional fluctuations.\\nFor instance \\nWestern U.P. exhibits semi-arid/steppe climate\\n due to \\nlow reception\\nof precipitation\\n.\\nNon-Uniform and unpredictable rainfall pattern\\n causes recurrent droughts and\\nfloods in eastern tract.\\nDue to the effect of \\nWestern disturbances,\\n light rainfall occurs in the months of\\noctober through december; it is termed as \\nRetreating South-West Monsoon\\n.\\nSOIL OF UTTAR PRADESH\\nMajor Soil Type:\\n Alluvial Soil\\nA deep layer of Alluvium is deposited by the Ganges and its tributaries as they flow\\ndown the Himalayas.\\nSoil Type in the Himalayan Crown of the state:\\nThere is no level land available and the terrain varies excessively in the Himalayan\\nregion.\\n10/41Major soil forming rocks are: Granite, Schists, Gneiss, Shales, Sandstones, Phyllite,\\nQuartzite, etc.\\nThe soils in the greater Himalayas, the lesser Himalayas and Shiwaliks vary from\\nsandy to loamy,\\n are \\nslightly acidic\\n and of \\nLow Available Water Capacity (AWC)\\ntype\\n.\\nCrops like Wheat, Maize, Rice and Pulses\\n are generally cultivated in these areas.\\nSoils of Gangetic Plains:\\nSoils develop from the Alluvium beds deposited by the Ganga, Yamuna and their\\ntributaries in the vastb Gangetic plains.\\nThe soils in this region are \\ncoarse loamy/fine loamy/fine silty \\n(calcareous & non-\\ncalcareous). These feature \\nslight alkalinity\\n and exhibit \\ndeep soil depth\\n as well as\\nhigh content of organic matter,\\n plant nutrients.\\nThese have a \\ngood water holding capacity\\n and are well drained.\\nWheat, Rice, sugarcane, gram, maize, sorghum, barley and pea\\n are the major\\ncrops cultivated in the alluvial soil of Gangetic plains.\\nSoils of Vindhyachal Highlands and plateaus:\\nThis region exhibits \\nhilly terrain and arid conditions\\n.\\nSoils in this region are generally developed from \\nVindhyan rocks\\n that include \\ngneiss,\\ngranites, sandstone, quartzite, limestone, dolomite\\n etc.\\nThe soil type is \\nfine loamy\\n with \\nstoniness and gravelliness\\n. The soils of this region\\npossess \\nmixed red and black hues\\n.\\nThese are \\nslightly alkaline\\n in nature, are excessively drained and \\nLow Available\\nWater Capacity (AWC)\\n.\\nThe major crops planted in the region are – \\nWheat, sorghum, bajra, gram and\\narhar\\n.\\nFLORA AND FAUNA OF THE STATE\\nDue to its varied climate and relief, Uttar Pradesh has a wealth of Flora and Fauna,\\nadding to the abundance of natural resources in the state, despite widespread\\ndeforestation and poaching.\\nForest Cover:\\n 21720 sq km\\nFollowing are the types of forests:\\nType of Forest\\nRegion\\nConditions\\n11/41Tropical Moist\\nDeciduous forest\\nTerai\\n100 to 150 cm. of rainfall\\nannually\\naverage temperature\\nbetween 26\\n℃\\n to 27\\n℃\\nconsiderable degree of\\nhumidity\\nTropical Dry\\nDeciduous Forest\\nCentral eastern And\\nWestern Plains\\nmoist regions\\nTropical Thorny\\nForest\\nSouth-western U.P.\\nlow annual rainfall (50-70\\ncms)\\nmean annual temperature\\nbetween 25\\n℃\\n to 27\\n℃\\nlow humidity (less than 47\\npercent)\\nTropical Dry Deciduous Forests:\\n Sal, Palas, Amaltas, Bel, fig etc. Neem, Peepal, Sheesham,\\nMango, Jamun, Babool, Imli (Tamarind) etc\\nTropical Thorny Forests: \\nThorny trees, mainly, Babool, Thorny, legumes and Euphorias.\\nOther Common Plants: \\nRhododendrons, betula, silver fir, spruce, deodar, chir, oak, sal,\\ngigantic haldu, dhak, teak, mahua, salai, sisso, chironji and tendu.\\nMedicinal Herbs:\\n Rauwolfia Sarpagandha, Viala serpens, Podophyllum, hexandrum and\\naephecra gerardiana.\\nThese plants are widely used in industries for various applications, for instance\\nBamboo is used predominantly in Paper industries, Babul is used to prepare the\\ntanning material, Gutel and Semal are employed in matchwood industry, Kanju is a\\nraw material for plywood industry.\\nFAUNA:\\nUttar Pradesh is replete with Avifauna (birds). Terrestrial animals, amphibians and\\nreptiles are also found in abundance here.\\nState Animal:\\n Barasingha or Swamp Deer\\n12/41The antlers of these Stags are made up of 12 tines or sometimes upto 20 tines.\\nLargest Wildlife Reserve:\\n Dudhwa National Park (500 sq km)\\nIt is situated in \\nLakhimpur Kheri\\n district of Uttar Pradesh.\\nIt is the only place in U.P. where both \\nTigers\\n and \\nRhinos\\n can be spotted together.\\nMost Common Birds:\\n Crow, pigeon, dove, jungle fowl, black partridge, house sparrow,\\npeafowl, blue jay, parakeet, kite, myna, quail, bulbul, snipe, comb duck, grey duck, whistling\\nteal, kingfisher and woodpecker.\\nTerrestrial Animals:\\n Tiger, leopard, wild bear, sloth bear, elephant, gond, para, chinkara,\\nsand grouse, musk deer, brown bear, chital, sambhar, jackal, porcupine, jungle cat, hare,\\nsquirrel, monitor, lizard and fox.\\nReptiles:\\n Bamania, Lizard, Cobra, Krait, Crocodile, Pit-viper, Goh, Tortoise and Dhaman.\\nAquatic Animals-Fishes: \\nMahaser, Saul, Parthan, Vittal, Mirgal, Labi, Cuchia, Einghi, Trout,\\nHilsa, Tengan, Rasela, Rohu, Kata, Mangur, Eel and Mirror Carp.\\nEndangered Species: \\nLions of the Gangetic plain and rhinoceros of the terai region Black\\nbuck, musk deer, swamp deer, four horned antelope and mural pheasants.\\nMajor Wildlife sanctuaries and national parks: \\nDudhwa National Park (Tiger Reserve),\\nBakhira Wildlife Sanctuary, Chandraprabha Wildlife Sanctuary, Dr. Bhimrao Ambedkar Bird\\nWildlife Sanctuary, Hastinapur Wildlife Sanctuary, Katerniaghat Wildlife Sanctuary,\\nKishanpur Wildlife Sanctuary, Lakh Bahosi Bird Wildlife Sanctuary, Mahavir Swami Wildlife\\nSanctuary, National Chambal Wildlife Sanctuary, etc.\\nFollowing is a list of most prominent National Parks, and Bird Sanctuaries of U.P.:\\nSl.\\nNo.\\nName of\\nNational\\nPark\\nSpecial\\nSpecies\\nImportant Remarks\\n13/411\\nDudhwa\\nNational\\nPark\\nBengal Tiger,\\nswamp deer,\\none-horned\\nrhinoceros, hog\\ndeer, cheetal\\nand many\\nspecies of\\nbirds.\\nDudhwa National Park is the only National Park\\nand Tiger Reserve representative of Terai-\\nbhabar Biogeographic subdivision of the Upper\\nGangetic Plains It was declared a Tiger Reserve\\nin the late 1980s and ever since it remains a\\nsafe hub for the rare Bengal Tigers in India.\\n2\\nNational\\nChambal\\nSanctuary\\nIndian\\nSkimmers, rare\\nturtle species,\\ncrocodiles, rare\\nGangetic\\ndolphin\\nIt is a riverine sanctuary along the Chambal\\nRiver\\n3\\nPilibhit\\nTiger\\nReserve\\n& Wildlife\\nSanctuary\\ntiger, leopard,\\nswamp deer,\\nhispid hare,\\nand Bengal\\nfloricans\\nIts northern border lies along the India-Nepal\\nborder while the southern boundary is marked\\nby the river Sharada and Khakra.\\n4\\nMahavir\\nSwami\\nWildlife\\nSanctuary\\nleopard, nilgai,\\nwild boar, and\\nsambhar\\nA unique feature of this Sanctuary is a group of\\n41 Jain Temples covering an area of\\napproximately 8 acres in its midst\\nHISTORY:\\nA Brief glimpse at the vivid history of U.P.:\\nBecause of its strategic and prominent position in the Indo-Gangetic plains Uttar\\nPradesh remains the epicentre of the historical advances in India.\\nThe history of Uttar Pradesh is very much associated with the broad history of India. It\\ndates back to 100000 years.\\nFormerly the area of Uttar Pradesh was occupied by the Aryans or the Dasas and their\\nmain occupation was agriculture. The Aryans, through conquests occupied the\\nadjoining areas too.\\n14/41Aryans\\n laid the foundations of their civilisation in the region. It was during the Aryan\\ninhabitation in the region that epics of \\nMahabharata, Ramayana, Brahmanas\\n and\\nPuranas\\n were written.\\nThe state is the heart of Mahabharata war. The \\nKosala Kingdom of Ayodhya\\n is said to\\nhave been incarnated in the city of \\nMathura\\n.\\nIt was around the middle of the 1\\n millennium BC that Uttar Pradesh saw the advent\\nof \\nLord Buddha\\n and the spread of Buddhism. Around the time Lord Buddha delivered\\nhis first sermon at \\nDhamek Stupa in Sarnath\\n when Uttar Pradesh was under the\\nMagadh rule\\n. Here \\nChaukhandi Stupa\\n marks the spot where Lord Buddha met his\\ndisciples.\\nBesides \\nKuru, Panchalas, Vatsas\\n and \\nVidehas\\n etc. formed the early region of the\\nstate. These regions were known as \\nMadhyadesa\\n. During \\nAshoka`s reign,\\n several\\npublic welfare works were taken up. During the rule of Magadha Empire, Buddhism\\nand Jainism developed in this region. It was a period of administrative and economic\\nadvancement.\\nPrehistory\\nOld Stone Age sites in U.P.:\\n Siwalik hills.\\nArchaeologists have been successful in making crucial prehistoric discoveries in the\\nstate of U.P.\\nFollowing are the noteworthy finds belonging to prehistoric period:\\nPrehistoric Findings\\nCorresponding\\nPeriod\\nRemnants of modern Hunter-Gatherers\\n85000 & 72000 years\\nago\\nSkeletons of Hunter-Gatherers\\nMiddle stone age\\n(10550–9550 BC)\\nEvidence of domestic cattles like Sheeps & Goats and proof\\nof initiation of Agriculture\\nNeolithic Age (6000\\nBC-4000 BC)\\nchariot, four copper antenne swords, copper crowns,\\ngreyware pottery, wheels,ornaments, helmets, shields, two\\ndaggers\\nBronze Age (3300-\\n1200 BC)\\nst\\n15/41Advanced agrarian findings\\nPeriod of Indus\\nValley Civilisation,\\nIron Age\\nAncient and Mythological History\\nVedic Era\\nThe ancient significance of Uttar Pradesh is surmised through the epics written in the\\nVedic Period – \\nRamayana and Mahabharata\\n.\\nThese two Epics chronicle the \\nGangetic plains\\n of Vedic Era.\\nAccording to Ramayana, \\nKosala kingdom\\n whose capital was Ayodhya where \\nLord\\nRam\\n reigned was situated in the present-day Uttar Pradesh.\\nA lot of significant events of \\nMahabharata\\n occurred in U.P. —\\nThe birth of \\nLord Krishna\\n (eighth incarnation of Lord Vishnu) in \\nMathura\\n.\\nWhole \\nMahabharata Saga\\n is set in the \\nHastinapur\\n \\nregion\\n of \\nUttar Pradesh\\n.\\nThe trails of Mahabharata War under \\nKing Yudhishthira\\n culminated in the \\nKuru\\nMahajanapada\\n.\\nMahajanapada Era\\nThe Vedic Era gave way to the advent of Iron Age, beginning from 1000 BC.\\nThe Gangetic plains gained in their importance during this period and became a focal\\ncentre of power as 7 of the 16 empires strived to acquire hold of this region.\\nPopular rulers of the region:\\n Chandragupta, Ashoka, Samudragupta, ChandraGupta\\nII, Harshavardhana\\nFollowing are the several empires that occupied the region:\\nEmpire\\nReigning Period\\nMaurya\\n320-200 BC\\nKushan\\n100-250 AD\\nGupta\\n350-600 AD\\nKannauj\\n590-647 AD\\n16/41Gurjara-Pratihara\\n650-1036 AD\\nDelhi Sultanate\\n1206-1320 AD\\nKannauj empire\\n was one of the most prominent rulers of the Ganga-Yamuna Doab.\\nIt marked the \\nrevival of Hinduism\\n.\\nIt rose to power after the defeat of Guptas at the hands of Huns. \\nHarshavardhana\\nhelped the empire expand its reach to the regions of Punjab in the north, Gujarat in\\nthe west, Bengal in the east and Odisha in the south.\\nHarshavardhana's demise marked the decline of Kannauj empire as \\nGurjara-\\nPratiharas\\n took over the reigns of the region.\\nFamous philosopher \\nShankara\\n established the famous \\nBadrinath Temple\\n on his visit\\nto Varanasi.\\nRashtrakutas\\n also invaded the Kannauj kingdom from 8th to the 10th century.\\nDelhi Sultanate\\n ruled the present-day U.P. for a span of 300 years since 1200 AD.\\nUttar Pradesh saw the descent of \\n5 dynasties of Delhi Sultanate\\n.\\nFollowing are the Delhi Sultanate rulers who held the reigns of Uttar Pradesh:\\nDynasty\\nRuling Period\\nMamluk\\n1206-90\\nKhalji\\n1290-1320\\nTughlaq\\n1320-1414\\nSayyid\\n1414-51\\nLodhi\\n1451-1526\\nBuddhist Era\\nBy the 2nd century BC Hinduism had gained foothold in U.P. which advocated ideas of\\nBrahamanism\\n.\\n17/41Around this period Buddha emerged onto the religious scene and by delivering his\\nfirst sermon at \\nSarnath near Varanasi\\n he initiated a revolutionary religion of\\nBuddhism.\\nBuddhism spread its canopy to faraway places like China and Japan.\\nKushinagara\\n is accredited as the place where Buddha attained \\nNirvana\\n.\\nBuddhism got a strong impetus under the rule of \\nAshoka\\n and saw greatest\\ndevelopment in the 6th BC under the reign of Gupta empire.\\nMedieval history/Muslim Reign\\nBabur,\\n a descendant of Timur and Gengis khan invaded Delhi, defeated Ibrahim Lodhi\\nand founded the \\nMughal empire\\n that stretched from \\nAfghanistan to Bangladesh,\\nwith its power centralised in Uttar Pradesh.\\nMughals were of central Asian Turk descent.\\nMughal King \\nHumayan\\n was defeated by \\nSher Shah Suri\\n of Suri dynasty, and thus the\\ncontrol of Uttar Pradesh was renounced to the Suri dynasty.\\nSher Shah Suri\\n and \\nIslam Shah Suri\\n ruled from Gwalior as their capital.\\nThe death of Islam Shah Suri paved way for \\nHemu,\\n who was known as \\nHemchandra\\nVikramaditya,\\n to rule over Delhi.\\nIn the second battle of Panipat, most prominent king of Mughal dynasty-Akbar seized\\npower from Hemu and made \\nFatehpur Sikri,\\n near Agra his capital.\\nAkbar’s reign\\n is regarded as the \\nreign of cultural, and art development\\n.\\nFall of the Mughal empire, led to the rules of \\nMarathas\\n and \\nRohillas\\n as well as their\\nmutual rivalry that ended with the second Anglo-Indian war as Marathas lost most of\\ntheir reign to the \\nBritish Empire\\n including Uttar Pradesh.\\nProminent landmarks belonging to the Muslim Rule in U.P.:\\nTaj Mahal built by Shah Jahan is the greatest architectural achievement.\\nBuland Darwaja at Fatehpur Sikri.\\nBhakti sect founded by Ramananda, a Brahmana.\\nKabir preached unity for all religions.\\nModern history and British Rule:\\nThe \\nEast India Company\\n wrested the powers from various empires and united them\\nunder the \\nBengal Presidency\\n during the early 18th century. It included the provinces\\nof the nawabs, the Scindias of Gwalior, and the Gurkhas of Nepal.\\nIn 1834 the northern territories were chucked off from Bengal Presidency to form\\nPresidency of Agra, which was later rechristened as \\nNorth Western Provinces\\n. Its\\ncapital switched between \\nAgra\\n and \\nAllahabad\\n.\\n1857 saw the first revolution by Indian rebels, which came to be known as \\n‘Sepoy\\nMutiny’\\n. \\nMeerut\\n was the fulcrum of this rebellion, started by Mangal Pandey.\\n18/41As a result of this failed rebellion a redivision of territories took place. Delhi got shifted\\nto the Punjab province, Ajmer-Marwar region was incorporated into Rajputana and\\nthe kingdom of Oudh wrested earlier was incorporated in the NWP of Agra, thus it was\\nagain renamed as \\nUnited Provinces of Agra and Oudh\\n in 1902.\\nIn 1902 the capital was shifted from \\nAllahabad to Lucknow\\n and in 1938 the name\\nwas shortened as United Provinces and ultimately in 1950 it was given its present\\nname-\\n'Uttar Pradesh'\\n.\\nProminent national leaders:\\n Motilal Nehru, Pandit Madan Mohan Malaviya, Motilal’s\\nson Jawaharlal Nehru, and Purushottam Das Tandon.\\nProminent educational institutions established in the British Era:\\n Benaras Hindu\\nUniversity, Aligarh Muslim University and the Darul Uloom Deoband.\\nProminent movements:\\n The All India Kisan Sabha (AIKS) was formed at the Lucknow\\nsession of the Congress on 11 April 1936, Ballia district established independent\\nadministration under Chittu Pandey during the Quit India movement (Baghi Ballia),\\nbecame a centre of Muslim League politics, Gandhi's Non-Cooperation movement\\ngained momentum in U.P.\\nDevelopment works undertaken during this period: \\ncanals, railways, and other\\nmeans of communication.\\nU.P. in post-Independence years:\\nOwing to its historical importance, U.P. has always maintained a constant influential\\npresence in Indian subcontinent.\\nSince independence political happenings in the state have received quite a popular\\nhandling,as the power keeps shifting in the hands of \\nBJP, SP\\n and \\nBSP\\n.\\nPost independence, after a two decade long rule of Indian National Congress came to\\nan end \\nBhartiya Janta Dal\\n bagged the governance of U.P. under the leadership of\\nRam Manohar Lohiya\\n.\\nThe BKD government came down after the imposition of \\npresident rule in 1969\\n.\\nFollowing the \\nemergency of 1975,\\n INC lost its support base in Uttar Pradesh and\\nJanata Party\\n came in the rule for the first time in 1977.\\nSince then except for two terms in 1980 and 1985 INC has never been able to form a\\ngovernment in the state.\\nBJP\\n came into power in \\n1991\\n and formed subsequent governments independently\\nand in coalition.\\nBut due to large scale controversies sprouting out of \\nRam mandir issue\\n BJP also lost\\nits support base in the state of U.P., paving way for \\nSP\\n and \\nBSP\\n to remain in power\\nuntil recently when in 2017 BJP again surged to power with \\nYogi Adityanath\\n as its\\nChief ministerial candidate.\\nU.P. has provided us with several personalities of import in every field.\\nPrime ministers from the state:\\n Jawaharlal Nehru; Nehru’s daughter, Indira Gandhi;\\nand Atal Bihari Vajpayee of the Bharatiya Janata Party (BJP).\\n19/41Political leaders: \\nAcharya Narendra Dev, one of the founders of the Praja Socialist\\nParty, and Mulayam Singh Yadav, the founder and longtime leader of the Samajwadi\\n(Socialist) Party (SP).\\nKey events:\\n Formation of Uttarakhand in 2000 due to discontent among people living\\nin the Himalayan regions regarding the poor and ineffective governance, 1992 Babri\\nMasjid-Ram mandir dispute of Ayodhya.\\nBabri Masjid-Ram Mandir Dispute:\\n A 3-Judge Bench was setup in the Allahabad High\\nCourt in 2002 to look into the matter of Babri-Masjid demolition case. In the year 1992\\na group going by the name of Karsewaks took it upon themselves to demolish the\\nBabri Masjid situated in Ayodhya, alleging that it was built on the land which\\nsupported a Ram Temple before.The hearing in this case was was done and High\\nCourt decided to allot 2.75 Acre land to erect a Ram Mandir to two groups, Nirmohi\\nAkhara and Ram Lalla, and to allocate the remaining land to Sunni Waqf board. Senior\\nleaders like Uma Bharati, Lal Krishna Advani, and Murli Manohar Joshi have been\\ncharged of having a hand in the demolition, but they pleaded not guilty. Both Hindus\\nand Muslims are at an impasse in the case and this is leading to communal tensions.\\nECONOMY\\nEconomic Zones:\\n Western region, Central Region, Eastern region and Bundelkhand\\nMajor Sector in the state:\\n Agriculture\\nOther sectors of income:\\nService sector, Industrial & manufacturing sector\\nTourism, computer hardware and software, information technology products and\\nhandicraft are other major contributors to the state’s economy.\\nU.P. is the second largest economy in India after Maharashtra.\\nAgriculture\\nThe economy of Uttar Pradesh entirely depends on agriculture. Several important steps like\\nextension of irrigation facilities, Arrangement for timely supply of fertilizers, pesticides and\\nhigh yielding seeds promoting high yielding varieties of use of seeds and continuous\\nconsultancy services of expects on agricultural matters have been taken.\\nPrincipal crops:\\n Rice, wheat, sugarcane\\nOther crops:\\n Wheat, rice, maize, millet, and pulses, such as beans, peas, oilseeds, potatoes,\\nlentils\\nPrincipal Fruits:\\n Mango, Guava\\n20/41Food Grain Production (2016-2017):\\n 47,773.4 thousand tonnes\\nU.P. is the largest producer of food grains and vegetables in India.\\nShare in total food grain output 2016-2017:\\n 17.83%\\nNet sowing area:\\n 16564 hectare\\nProduce\\nQuantity\\nFood grains\\n52276\\nPulse seeds\\n2389\\noil seeds\\n1005\\nSugarcane\\n134846\\nPotato\\n13158\\nProduction (In thousand metric ton)\\nCrop Loan:\\n A provision of Rs. 200 crore has been made to provide short term crop loan to\\nfarmer @3% interest.\\nIn 2016-17, a provision of Rs. 1574 crore for new schemes of irrigation and Rs. 745\\ncrore for flood control has been made.\\nThe percentage distribution of net irrigated areas through different sources:\\nCanal\\n18.5%\\nJute well\\n71.5% \\nPonds, lakes, well, other water\\nbodies\\n0.8%\\n21/41Others\\n1.4%\\nProduce/Speciality\\nRank in\\nIndia\\nSugarcane\\n1\\nPotato\\n1\\nEconomy (GDP)\\n3\\nState Population\\n1\\nMango\\n1\\nWheat\\n1\\nRice\\n2\\nIndustries\\nThe state has diversified and naturally developed industrial activities.\\nKey Industries: \\nInformation technology, agro processing, tourism, mineral-based\\nindustries, textiles, handloom and handicrafts, food processing and sports goods,vegetable\\nand animal oils and fats, dairy products, grain mill products, animal feed, carpets and rugs.\\nIndustrial spectrum:\\n Cement, Vegetable Oil, Textiles, Cotton Yarn, Sugar, ,Jute, Locks,\\nCarpet, Brassware, Glassware, Bangles, Marble, Inlay, Food products & beverages, Tobacco,\\nchemicals & chemical products, metal, rubber and plastic products, metal fabrication work\\nincluding motor vehicles, trailers and semi-trailers, communication equipment, transport\\nequipment, electrical machinery and apparatus, furniture, non-metallic mineral products,\\npublishing, printing and media, paper and paper products, glassware and leather related\\nproducts.\\nForeign Direct Investment (FDI) equity (2000 to 2017):\\n US$ 652 million\\n22/41Milk Production:\\n 27.77 million tonnes\\nShare in total milk produced in India:\\n 16.83%\\nU.P. is considered one of the \\nmajor milk producing state\\n in India.\\nIT and ITes sector:\\n Software, captive business process outsourcing (BPO), electronics,\\nsemiconductor industry.\\nU.P. is a fastly emerging IT hub.\\nServices exhibiting massive growth:\\n Telecommunication, banking, insurance, logistics,\\ntransport, health and education\\nProducts exported by the state: \\nSoftware, electronics, computer hardware, chemicals,\\nstone products, brass work, betel leaves, potato based products, hand printing, leather\\nitems, cotton yarn, sarees, silk dress material, black pottery, handicraft items, art products,\\njewellery.\\nMajor factors driving industrial Growth in U.P.:\\n1\\n. \\nAvailability of natural resources and raw material\\n2\\n. \\nAccess to robust infrastructure\\n3\\n. \\nExtensive commutation networks\\n4\\n. \\nAvailability of skilled labour\\n5\\n. \\nProvision of large scale investments and incentives offered by the state\\nMinerals and Heavy Industries\\nMinerals found in Uttar Pradesh:\\n Limestone, Dolomite, Glass-sand, Marble, Bauxite, Non-\\nplastic Fireclay, Uranium, Barytes & Andalusite, Sand-stone, Pebbles, Reh, Salt punter,\\nMaurang sand, Diaspore, Sulphur, Magnesite, Pyrophyllite, Silica sand.\\nIn the early days Copper, Lead, Iron ore and Placer Gold have been mined on a small\\nscale in parts of Himalayas, Bundelkhand and South-Eastern districts.\\nIn addition Vindhyan Sand Stone as building and Mill Stone were also mined in the\\ndistricts of Agra, Allahabad and Mirzapur.\\nPrior to 1900, the Copper ores were mined on a small scale in erstwhile Garhwal,\\nhowever, the development of Modern Technology and decline in the prices also lead\\nto the decline of small scale Mining.\\nMining activity during 1920 and 1930 further declined due to various reasons.\\nThe Geologists have been examining the ground for search of both Industrial and\\nMetallic Mineral deposits which could be developed in relation to present day\\nTechnology and Economics.\\n23/41Sl.\\nNo.\\nMineral\\nLocation\\n1.\\nCoal\\nSingrauli coalfields, Sonbhadra\\n2.\\nDiaspore & pyrophyllite\\nHamirpur, Jhansi, Lalitpur and\\nMahoba\\n3.\\nsilica sand\\nNaini(Allahabad)\\n4.\\nGlass sand Mineral\\nShankargarh, Lohargarh,Bargarh\\n5.\\nAndalusite & Calcite\\nMirzapur\\n6.\\nBauxite\\nBanda, Varanasi, Lalitpur\\n7.\\nChina clay & Dolomite\\nBanda, Sonbhadra\\n8.\\nOchre\\nBanda\\n9.\\nGranite\\nBanda, Hamirpur, Lalitpur &\\nMahoba\\n10.\\nFelspar\\nJhansi\\n11.\\nFireclay, limestone, potash &\\nsillimanite\\nSonbhadra\\n12.\\niron ore (hematite) and rock\\nphosphate\\nLalitpur\\nPOWER GENERATION\\nInstalled power generation capacity:\\n 24,917 megawatt (MW)(April 2018)\\n24/41Important power plants in\\nthe state\\nSl. No.\\nPlant/Project\\nType/Category\\n1.\\nNarora Atomic Power Station-\\nBulandshahr\\nNuclear\\n2.\\nNTPC-Singrauli\\nThermal Coal\\nBased\\n3.\\nNTPC-Dadri\\nThermal Coal\\nBased\\n4.\\nNTPC-Feroze Gandhi, Unchahar\\nThermal Coal\\nBased\\n5.\\nNTPC-Tanda\\nThermal Coal\\nBased\\nTOURISM\\nAs Uttar Pradesh harbours one of the most beautiful wonders of the world-Taj Mahal,\\nthat’s why it’s the recipient of a high number of tourist footfalls every year.\\nEvery year 2 million domestic and foreign tourists visit U.P. on an average.\\nU.P. government has devised a new tourism policy to invite Rs5000 Cr worth of\\ninvestments\\nBudget allocated for religious tourism (2018-19):\\n Rs 1240 Cr\\nU.P. is a renowned destination for religious tourism or pilgrimage.\\nImportant Archaeological/Tourism Monuments and Sites:\\nSl.\\nNo.\\nTemple/Archeological Monument/Site\\nLocated in/near\\n25/411.\\nTaj Mahal\\nAgra\\n2.\\nKashi Vishwanath Temple\\nVaranasi\\n3.\\nTulsi Manas Temple\\nVaranasi\\n4.\\nHanuman Setu Temple\\nLucknow\\n5.\\nSri Radha Govinda Temple\\nVrindavan\\n6.\\nRam Janmabhoomi\\nAyodhya\\n7.\\nTriveni Sangam\\nAllahabad\\n8.\\nSankat Mochan\\nVaranasi\\n9.\\nSarnath Temple\\nVaranasi\\n10.\\nManikarnika Ghat\\nVaranasi\\n11.\\nTomb of Akbar the Great\\nAgra\\n12.\\nAgra Fort\\nAgra\\n13.\\nBanke Bihari Temple\\nVrindavan\\n14.\\nBharat Mata Mandir\\nVaranashi\\n15.\\nBada Imambara\\nLucknow\\n16.\\nJhansi Fort\\nJhansi\\n26/4117.\\nJama Mosque\\nJaunpur\\n18.\\nChunar Fort\\nVaranashi\\n19.\\nResidency\\nLucknow\\n20.\\nVictoria Memorial\\nLucknow\\n21.\\nDhamek Stupa\\nVaranasi\\n22.\\nFatehpur Sikri\\nAgra\\n23.\\nKrishna Janmabhoomi\\nMathura\\nCONSTITUTIONAL SETUP\\nUnder the Constitution of India, Uttar Pradesh has a Governor and a bicameral\\nLegislature.\\nThe Lower House is called Vidhan Sahha having 404 members, out of which 403 are\\nelected and 1 nominated and the Upper House, Vidhan Parishad having 100\\nmembers.\\nThe State has also a High Court at Allahabad with its bench at Lucknow.\\nThe executive power of the State is vested in the Governor as it is exercised by him\\neither directly or through officers subordinate to him according to the constitutional\\nprovisions.\\nCouncil of Ministers\\nAll the executive business of the State is carried on in the name of the Governor.\\nThe Chief Minister has to inform the Governor about all the decisions taken by the\\nCouncil of Ministers in regard to administration as also require the Council of\\nMinisters to reconsider any matter on which a unilateral decision has been taken by a\\nminister.\\nThe Governor has been made a component part of the Legislature under Article 168\\nof the Constitution and has been assigned certain functions. He summons both or\\neither of the Houses of Legislature and also prorogues them.\\nHe is also empowered to suspend or dissolve the Vidhan Sabha.\\n27/41Vidhan Sabha\\nThe Uttar Pradesh Vidhan Sabha has a total of 404 members including one Anglo-\\nIndian member who is norminated by the Governor.\\nAccording to the recommendation of the Delimitation Commission, which is appointed\\nafter every Census, the State had been divided into 403 Vidhan Sabha Constituencies.\\nThe Term of the Vidhan Sabha is five years unless dissolved earlier. The election for it\\nis held on the principle of 'one adult one vote'\\nThe Language of the House is Hindi in Devanagri script.\\nHouse Committees\\nUttar Pradesh is the first State to accept the Principle that the Chairman of Public\\nAccounts Committee should be from the Opposition. The State has been following this\\nconvention since 1948, While it was adopted by the Lok Sabha only after 1967.\\nUttar Pradesh has also the distinction of setting up of a Parliamentary Studies\\nCommittee a few years ago to study parliamentary affairs and give its suggestions. The\\ncommittee has done important work regarding privileges of members, ordinance-\\nissuing power of the Governor, inclusion of Vidhan Parishad members in financial and\\nother committees and working of the committee itself.\\nAnother committee was set up to oversee the welfare of Scheduled Castes/Tribes and\\nDenotified Tribes. In addition, there are 27 Standing Committees to advise the\\nministers.\\nVidhan Parishad\\nThe State has a bi-cameral Legislature since 1937.\\nThe Upper House or the Vidhan Parishad is a permanent House.\\nMembers are elected or nominated for six years and one-sixth of them retire every\\nsecond year.\\nIt has 108 members, 12 of whom are nominated by the Governor.Thirty-nine\\nmembers are elected each by the Vidhan Sabha and Local bodies and nine each by\\nthe teachers and graduates.\\nThe Secretariat\\nMost departments of the Secretariat have heads of departments and heads of offices\\nunder their administrative control, who function as the executive authorities of the\\nGovernment.\\nAll the government orders are issued in the name of the Governor but are signed by\\nthe Secretary or officers under him down to the rank of Under Secretary.\\nThe work of Government is conducted in Hindi, in Devanagri script. T\\n28/41The Principal Secretaries, Secretaries, Special Secretaries, Joint Secretaries, Deputy\\nSecretaries and Under-Secretaries are appointed either from the Central or State\\nAdministrative Services.\\nThe work of the Secretariat can be divided broadly into the following categories:- (i)\\nPersonnel Administration (ii) Financial Administration (iii) Judicial and Legislative Affairs\\n(iv) Law and Order (v) Levy and Collection of Taxes (vi) Economic Development and\\nConservation of Sources of State's Wealth (viii) Social Services (viii) Public Utility\\nServices (ix) General Administration.\\nDistrict and Divisional Administration\\nAfter the Secretariat and Heads of Departments, the Divisional Commissioner\\noccupies an important place.\\nHe is fully responsible for law and order, revenue, administration and other matters\\npertaining to his division. He has to exercise supervision over the district officers, local\\nbodies and planning and development works.\\nEach division consists of certain districts. Each district is under the admistrative charge\\nof a district officer who is also called the District Magistrate or Deputy Commissioner.\\nThe District Officer is fully responsible for the law and order in his district and has\\nextensive administrative, police and revenue powers.\\nThe Judiciary\\nThe High Court is the apex court in the State in respect of civil and criminal cases.\\nThe Board of Revenue is the highest court in respect of revenue cases.\\nUnder Article 277 of the Constitution, the High Court has been given the power of\\nsuperintendence over all others courts and tribunals.\\nThe High Court is a Court of records which means that its work and proceedings serve\\nas perpetual evidence. Its records are of such high authority that their content cannot\\nbe challenged in any lower court.\\nAs a court of record, it has also the power to punish persons guilty of its contempt.\\nThe Chief Justice of the High Court is appointed by the President of India on the advice\\nof the Chief Justice of the Supreme Court of India and the Governor of the State.\\nOther Judges are appointed by him on the advice of the Chief Justice.\\nCULTURE\\nFolk Dances\\nMajor Dance forms of the state: \\n1. Swang, 2. Charkula Dance, 3. Raslila, 4. Nautanki, 5. Ahir\\nDance.\\n29/41Uttar Pradesh is the place where Kathak, one of the six foremost classical dances of\\nIndia, flourished. The word Katha, from which the name is derived, means story. It\\noriginated in northern India, during the 7th century A.D. Kathak has very intricate and\\ncomplex movements of hands and feet along with facial expressions.\\nThe footwork is accompanied by the music of various percussion instruments such as\\ntabla and pakhawaj, which are native to north India.\\nOther dance forms of Uttar Pradesh are largely folk traditions expressed in theatrical\\nforms, such as:-\\nRamlila is one such art form dealing with the life of Lord Rama and includes dance\\nand theatre performance.\\nBraj Raslila is associated with the life of the lover-God, Lord Krishna.\\nCharkula is another folk dance of the state. The dance of Charkula involves a female\\ndancer balancing a column of lighted deepaks over her head while dancing.\\nRasiya describes the love of Radha and Shri Krishna. Charkula and Rasiya are native\\narts of the Braj region of the state.\\nMusic\\nUttar Pradesh had been the land of the great sages and hermits and the singing of\\nancient hymns and mantras laid the basic tradition of music, which has blossomed\\ninto a musical tradition. The medieval age saw the emergence of two distinct strands\\nof music. One was the court music that found patronage in the Courts like Agra,\\nFatehpur-Sikri, Lucknow, Jaunpur, Varanasi, Ayodhya, Banda and Datiya. The second\\nwas the religious tradition emerging from the Bhakti Cult rooted and flowered in\\ncentres like Mathura, Vrindavan and Ayodhya. Rulers and musicians from Uttar\\nPradesh contributed to the prosperity of Hindustani music.\\nArtistes of the stature of the shehnai maestro Ustad Bismillah Khan, Kathak wizard\\nBirju Maharaj, tabla maestro Kishan Maharaj, the legendary Baba Allauddin Khan and\\nhis disciples Pt. Ravi Shankar and Ustad Vilayat Khan; ghazal singers Begum Akhtar,\\nRasoolan Bai, Girija Devi and many more have lived and practised their art here.\\nTribes\\nProminent tribes in the state:\\n 1. Agariya, 2. Aheria, 3. Baiga Tribe, 4. Bind Tribe, 5. Patari.\\nAgariya Tribe of Uttar Pradesh:\\n One of the Scheduled Tribes of Uttar Pradesh is the\\nAgariya people. During the years of the British rule, the ones who lived in and around\\nMirzapur were involved in the mining of iron.\\nAheria Tribe of Uttar Pradesh:\\n An ethnic community of people in India, Aheria is\\nmainly found in the state of Uttar Pradesh and Rajasthan. Before the 1920s, they were\\nmainly hunters but later on they became farmers.\\n30/41Baiga Tribe of Uttar Pradesh:\\n Commonly found in Uttar Pradesh, Jharkhand, Madhya\\nPradesh and Chhattisgarh, the Baiga tribe also has some sub castes like Nahar,\\nBijhwar, Narotia, Kadh Bhaina, Rai Bhaina, Bharotia etc.\\nThis tribe practices 'shifting cultivation' in the forest. As they never plough the same\\npatch of earth again and again, they lead a semi-nomadic life. Baiga have tattooing as\\nan integral part of their lifestyle. They are the successors of the Dravidians.\\nBeldar Tribe of Uttar Pradesh:\\n A part of the Scheduled Castes, Beldar are originally\\nfrom Uttar Pradesh. The Kewat community is claimed to be their ancestors and have a\\nhistory of moving from one place to another.\\nBind Tribe of Uttar Pradesh:\\n The Bind tribe is found in Uttar Pradesh and belongs to\\nthe Other Backward Caste. This community claims that they belong to the Simha\\ncommunity and are different from the other castes including the Bin in Bihar. They\\nhave originated from the Vindhya Hills located in the central part of India. Buksa Tribe\\nof Uttar Pradesh: Living mainly in the Indian states of Uttar Pradesh and Uttarakhand,\\nthe Buksa people are indigenous people who have been granted the status of the\\nScheduled Tribes.\\nChero Tribe of Uttar Pradesh:\\n Found in the states of Bihar and Uttar Pradesh in the\\nNorth India, the Chero is a scheduled caste, a community that claims to have been\\noriginally the Chandravanshi Rajputs. They belong to one of the tribal communities\\nthat are resident of the southeastern parts of Uttar Pradesh like the Kol and Bhar.\\nThey ruled northern parts of Bihar until the Rajputs disposed them off. Now, they can\\nbe found in the areas that extend from Muzaffarpur to Allahabad. They are sub-\\ndivided into Chaudhary and Mahto.\\nGhasia Tribe of Uttar Pradesh:\\n The Ghasia are one of the many tribal communities\\nfrom Sonbhadra and Mirzapur in the southern parts of Uttar Pradesh. According to\\ntheir claims, at some point of time, they were the rulers but since they lost their\\nrulings, they started cultivation.\\nKol Tribe of Uttar Pradesh:\\n Mainly found in the Allahabad, Varanasi, Banda and\\nMirzapur districts, the Kol is the largest tribe in Uttar Pradesh. As stated in the history,\\nthis community migrated from the central parts of India almost 5 centuries ago. They\\nare one of the Scheduled Castes available in UP.\\nKorwa Tribe of Uttar Pradesh:\\n The Korwas, a Scheduled Tribe found in the\\nJharkhand, Chhattisgarh and Uttar Pradesh is economically and socially poor\\ncommunity. They are isolated tribes and most of them are hunter gatherers.\\nFestivals\\nFestivals of almost all the religions are celebrated in U.P.\\nVarious communities celebrate as many as 40 festivals with gaiety and complete\\ncommunal harmony.\\n31/41Sheetla Ashtami, Raksha Bandhan, Vaishakhi Purnima, Ganga Dashahara, Naag\\nPanchami, Krishna Janmashtami, Ram Navami, Ganesha Chaturthi, Vijaya Dashmi,\\nDeepawali, Kartik Purnima, Makar Sankranti, Vasant Panchami, Shivaratri and Holi are\\nthe main festivals of the Hindus.\\nEid, Muharram, Bakrid, Barawafat and Shab-e-Barat are the major Muslim festivals.\\nNew Year's Day, Good-Friday, Easter and Christmas are the prominent festivals of the\\nChristians.\\nBuddha Purnima for Buddhists, Mahavir Jayanti for Jains, the birthday of Guru Nanak,\\nMartyr's day of Guru Teg Bahadur and Vaishakhi are the famous festivals of the\\npeople of Sikh faith.\\nAbout 2,250 fairs are held every year in Uttar Pradesh.\\nThe largest number of fairs are held in Mathura (86), followed by Kanpur and\\nHamirpur (79), Jhansi (78), Agra (72), and Fatehpur (70).\\nMore than 2,230 festivals are held annually.\\nSome are organized at several places simultaneously while others have only local\\nimportance. Festivals and feasts are linked with the golden harvest - the sensuous\\nspring, the reverence for mythology, religion or in honor of the past great men.\\nThese are zestfully celebrated with song, dance, and merriment; others with\\nsolemnity, fervor, fast, or feast. These fairs and festivals help the people keep the\\nculture vibrant and promote artistic activities.\\nSl.\\nNo.\\nFestival\\nName\\nRemarks\\n1.\\nDiwali\\n'Festival of lights,' Diwali is a five-day Hindu celebration in the\\nstate\\n2.\\nMaha Kumbh\\nMela\\nLargest Hindu pilgrimage where millions of people gather\\ntogether to take a spiritual bathe in a sacred river, popularly\\nknown as Sangam.\\nIt is held at every third year at one of the four places namely\\nHaridwar, Allahabad, Nashik and Ujjain.\\n3.\\nRama Navami\\nFamous Hindu festival which marks the birth of Lord Rama\\n4.\\nMaha\\nShivaratri\\nCelebrated in the respect of Lord Shiva every year\\n32/415.\\nJanmashtami\\n6.\\nEid\\nEid or Eid-ul-Fitr is a main religious festival of Muslims\\n7.\\nVijayadashami\\nVijayadashami also known as Dussehra, is a most popular\\nHindu festival that celebrates the victory of Lord Rama over\\nRavana and Goddess Durga over devil Mahishasura.\\n8.\\nYoga Festival\\nThe yoga Festival held at Varanasi and Allahabad.\\nSobriquets/Special Titles bestowed on Cities\\nSl.\\nNo.\\nCity\\nNick Name\\n1.\\nAgra\\nCity of Taj\\n2.\\nAllahabad\\nSangam City, Abode of God\\n3.\\nKannauj\\nGrasse of the East, Perfume Capital of India, Harsh Vardhan\\nCity\\n4.\\nKanpur\\nLeather City of the World, Manchester of the East\\n5.\\nLucknow\\nCity of Nawabs, Shiraz-e-Hind, Constantinople of the East\\n6.\\nVaranasi\\nSpiritual Capital of India, Oldest city in the world\\nPainting & Rock Painting\\n33/41The tradition of painting in Uttar Pradesh has been going on since prehistoric times.\\nThe \\ncave paintings of Sonbhadra\\n and \\nChitrakoot\\n depict \\nscenes of hunting, war,\\nfestivals, dances, romantic life\\n and \\nanimals\\n. The \\ngolden period of painting\\n in UP\\nwas the \\nMughal Era\\n. The art of painting attained its peak during the reign of Jahangir.\\nThe Mughal style of painting remains one of the greatest achievements of Asian\\nculture and is unique in its concept, presentation and style.\\nThe art of painting reached the epitome of perfection in the area of Bundelkhand\\nwhen the King of Orchha reconstructed the temple of Keshav Dev in Mathura. The\\npaintings of Mathura, Gokul, Vrindavan and Govardhan depict the scenes from the life\\nof Lord Krishna. Another major pre-modern painting tradition of UP is known as the\\nGarhwal School which was patronized by the Kings of Garhwal.\\nCrafts\\nMajor Handicrafts: \\nChikan work, Embroidery, Furniture, Clay toys, Carpet Weaving, Silk,\\nBangles, Brassware work.\\nOne of the important crafts of Uttar Pradesh is \\nChikankari,\\n which entails delicate and\\ntraditional hand embroidery. This form of handicrafts is mainly practiced in \\nLucknow\\n.\\nIt is done on fabrics like chiffon, muslin, organza, organdy and silk. Chikan saris and\\nKurtas which are the perfect \\nsummer wear\\n.\\nZardozi\\n embroidery is another unique art where the embroidery is done in three\\ndimensions. Zari works of \\nVaranasi\\n are famous around the world.\\nPottery and exquisite metal ware products\\n are also created on a large scale in\\nUttar Pradesh.\\nCarpet weaving\\n is also an important cultural expression of Uttar Pradesh. The state\\ncaters to 90 percent of the country's carpets. The carpet weaving centers primarily\\nlocated in the state are around Mirzapur, Khamaria and Bhadohi.\\nMetal Ware\\nUttar Pradesh is the largest \\nBrass and Copper\\n producing state in India. In domestic-\\nware each of the \\n'lotas'\\n (small water-pots) is known by the name of its origin, like\\nEtawah, Banaras, Sitapur, etc. The ritual articles are largely in copper. Moradabad in\\nU.P. is famous for its art metalwork and known for its coloured enamelling and\\nintricate engravings.\\nPottery\\n34/41Glazed pottery with white background and blue and green patterns\\n is developed\\nin \\nKhurja, Chunar and Rampur\\n in Uttar Pradesh. U.P. produces some of the finest\\nChunar black clay pottery. This is inlaid with silver paint in intricate designs. The art\\nthat is practiced in Nizamabad, has high gloss and lustre derived from a powder called\\nkabiz made from the mud of rice fields. Khurja is also well known for its cheap and\\ntough tableware.\\nTerracotta\\nGorakhpur\\n has villages where \\nclay figures of animals\\n are created and is famous for\\nits ornately decorated terracotta horse too. The potter creates the basic form by\\nplacing separate pieces of mud on the wheel and then carving them.\\nJewellery\\nLucknow\\n is well known for its \\njewellery and enamel work\\n. Exquisite silverware with\\npatterns of hunting scenes, snakes and roses are very popular. The Bidri and\\nZarbuland silver works of Lucknow have fine embroidery on excellent pieces of huqqa\\nfarshi, jewel boxes, trays, bowls, cufflinks, cigarette holders, etc. Renowned ivory and\\nbone carvings with motifs of flowers, leaves, creepers, trees, birds and animals are\\nwidely produced in Lucknow. The master craftsmen create intricate items like knives,\\nlampshades, shirt pins and small toys.\\nPerfumery\\n'Attars'\\n or \\nperfumes\\n are also produced in \\nLucknow\\n since 19\\n century. The Lucknow\\nperfumers experimented and succeeded in making attar with delicate and lasting\\nfragrances those are made from various aromatic herbs, spices, sandal oil, musk,\\nessence of flowers, and leaves. The famous Lucknow fragrances used in perfumes are\\nkhus, keora, chameli, zafran and agar.\\nFarming is the primary occupation of three-quarters of the working population. The soils\\nare fertile and there is good rainfall in nearly all the regions. Irrigation facilities bring water\\nto about one-third of the cropped area. , are the major food crops. Uttar Pradesh is one of\\nthe country's major producers of sugarcane. Cotton, oilseeds, jute, potatoes, and tobacco\\nare other important cash crops.Many peasants have farms that are too small for efficient\\nagriculture. The main problem is the pressure of population on land sources.As a part of\\nnational and state projects for sericulture (the production of silk fibre), large-scale planting\\nof mulberry trees is under way across the state. Mulberry trees provide food for the\\ncaterpillars of the silkworm moth.\\nEDUCATIONAL INSTITUTIONS IN UP\\nth\\n35/41Institute\\nLocation\\nType\\nIndian Institute Of Technology, Kanpur\\nKanpur\\nInstitute of National\\nImportance\\nSanjay Gandhi Postgraduate Institute of Medical\\nSciences (SGPGIMS)\\nLucknow\\nInstitute under state\\nlegislature act\\nIndian Institute of Information Technology,\\nAllahabad\\nAllahabad\\nInstitute of National\\nImportance\\nMotilal Nehru National Institute of Technology\\nAllahabad\\nInstitute of National\\nImportance\\nNational Institute of Fashion Technology\\nRae\\nBareilly\\nInstitute of National\\nImportance\\nNational Institute of pharmaceutical education\\nand research\\nRae\\nBareilly\\nInstitute of National\\nImportance\\nRajiv Gandhi Institute of Petroleum Technology\\nJais,\\nNoida\\nInstitute of National\\nImportance\\nIndian Institute of Technology, Varanasi\\nVaranasi\\nInstitute of National\\nImportance\\nIndian Institute of Technoloy (BHU), Varanasi\\nVaranasi\\nInstitute of National\\nImportance\\nResearch Institutions\\nInstitution\\nLocation\\nCentral Drug Research Institute\\nLucknow\\n36/41Central Institute of Medicinal and Aromatic\\nPlants\\nLucknow\\nBirbal Sahani Institute of Palaebotany\\nLucknow\\nGovind Ballabh Pant Social Science Institute\\nAllahabad\\nIndian Institute of Pulses Research\\nKanpur\\nIndustrial Toxicology Research Centre\\nLucknow\\nNational Botanical Research Institute\\nLucknow\\nNational Sugar Institute\\nKanpur\\nUttar Pradesh Textile technology Institute\\nKanpur\\nSports\\nArena/Stadium\\nSl. No.\\nStadium/Arena\\nPurported Sport\\nCity\\n1.\\nGreen Park Stadium\\nCricket\\nKanpur\\n2.\\nFaizabad Sports\\nComplex\\nMultipurpose\\nFaizabad\\n3.\\nBuddh International\\nCircuit\\nFormula One Indian\\nGrand Prix\\nGreater\\nNoida\\n4.\\nDhyan Chand Astroturf\\nStadium\\nHockey\\nLucknow\\n37/41HISTORICAL FACTS ABOUT UTTAR PRADESH\\nThe history of Uttar Pradesh is recognised in the later Vedic Age as Brahmarshi Desh\\nor Madhya Desha. Many great sages of the Vedic times like Bhardwaja, Gautam,\\nYagyavalkya, Vashishtha, Vishwamitra and Valmiki flourished in this state. Several\\nsacred books of the Aryans were also composed here. Two great epics of India,\\nRamayana and Mahabharata, appear to have been inspired by Uttar Pradesh. In the\\nSixth Century BC Uttar Pradesh was associated with two new religions- Jainism and\\nBuddhism. It was at Sarnath that Buddha preached his first sermon and laid the\\nfoundations of his order. Several centres in Uttar Pradesh like Ayodhya, Prayag,\\nVaranasi and Mathura became reputed centres of learning.\\nIn the medieval period Uttar Pradesh passed under Muslim rule Mughal emperors\\nBabur and Humayun ruled from Agra. In 1540 an Afghan, Sher Shah Suri, took over\\nthe reins of Uttar Pradesh after defeating the Mughal king Humayun and led the way\\nto new synthesis of Hindu and Islamic cultures. Ramananda and his Muslim disciple\\nKabir, Tulsidas, Surdas and many other intellectuals contributed to the growth of Hindi\\nand other languages.\\nDuring the British rule in India, there were certain pockets in Uttar Pradesh that were\\ngoverned by the English equity and common law. In 1773, the Mughal Emperor\\ntransferred the districts of Banaras and Ghazipur to the East India Company. The East\\nIndia Company acquired the area of modern day Uttar Pradesh over a period of time.\\nThe territories occupied from the nawabs, the Scindias of Gwalior and the Gurkhas\\nwere initially placed within the Bengal Presidency.\\nDEVELOPMENT SCHEMES RUNNING IN U.P.\\nList of Schemes Running in the state\\n1\\n. \\nInterest Waiver scheme for farmer loans from cooperative banks\\n2\\n. \\nOld Age pension scheme-2018 & Widow pension scheme 2018\\n3\\n. \\nOne District One Product Scheme 2018\\n4\\n. \\nUP Govt. Anti Corruption & Anti Graft Scheme\\n5\\n. \\nFree Bus Ride Scheme in UP for BPL Families\\n6\\n. \\nFree Education Scheme Upto Class 12th\\n7\\n. \\nUP Ration Card Scheme\\n8\\n. \\nUttar Pradesh Berojgari Bhatta Yojana 2018\\n9\\n. \\nKisan Uday Yojana to Provide Pump Sets to Farmers\\n10\\n. \\nUttar Pradesh Sahaj Bijli Har Ghar Yojana – Saubhagya Scheme\\n11\\n. \\nUP Draft Scheme for Fees Regulation of Private Schools\\n12\\n. \\nPandit Deendayal Gramodyog Rozgar Yojana\\n13\\n. \\nNIDHI EIR Yojana in Uttar Pradesh for Engineering Students\\n38/4114\\n. \\nMukhyamantri Free Laptop Scheme\\n15\\n. \\nMukhyamantri Annapurna Bhojnalay Scheme\\n16\\n. \\nGhaziabad Ab Hoga Aur Bhi Roshan\\n17\\n. \\nSuryanetra Yojana-Employment via UPNEDA\\n18\\n. \\nWorker’s Children Scheme\\n19\\n. \\nBhagya Laxmi Yojana\\n20\\n. \\nMukhyamantri Swarojgar Yojana\\n21\\n. \\nUJALA Scheme\\n22\\n. \\nUP Viklang Pension Scheme\\nSchemes Pertaining to Additional Energy Sources\\n1\\n. \\nSolar Energy Policy\\n2\\n. \\nSolar Rooftop Programme\\n3\\n. \\nProgrammes Under Grid Connection/State Solar Power Policy\\n4\\n. \\nSolar City Program\\nSchemes for Farmers\\n1\\n. \\nGrants on Certified Seeds Schemes\\n2\\n. \\nPest Control/Disease Control Through Different Situation Resources Schemes\\n3\\n. \\nScheme for Promoting The Use of Hybrid Seeds Scheme\\n4\\n. \\nUse of Information Technology for The Development of Agriculture Schemes\\n5\\n. \\nTrained Agricultural Entrepreneurs Self Help Plan Schemes\\n6\\n. \\nKrashi Bhumi Sanrakshan Scheme\\nISSUES AND CHALLENGES\\nPOVERTY\\nU.P. is home to world’s largest number of poors.\\n75% Rural households dependent on Agriculture for their livelihood.\\nLower castes and women form a big part of the population living below poverty line.\\nChallenges:\\nGeneration of opportunities\\nMaking the poor aware and conscious of opportunities\\nProtecting the poor and vulnerable\\nRegion with high impoverishment: Urban Southern Region (SR), rural Eastern Region\\n(ER), and in both rural and urban areas of Central Region\\nHigh Infant Mortality Rate & Poor Children Health\\n39/41Infant Mortality Rate (2015-16):\\n 64 per thousand live births\\nU.P.’s infant mortality rate is very high in comparison to Infant mortality rate in India,\\nwhich stood at 41 per thousand live birth in 2015-16.\\nSeverity of Situation:\\n1\\n. \\n46.3% children have stunted growth(low height for age)\\n2\\n. \\n17.9% children come under wasted category(low weight for height)\\n3\\n. \\n40% children are underweight\\nReasons for such a high mortality Rate:\\n1\\n. \\nUnavailability of specialist doctors.\\n2\\n. \\nLack of Adequate nursing staff\\n3\\n. \\nLowest health workers share in India (19.9%)\\nLack of Quality Education and Unfulfilled Educational Goals\\nIssues: \\npoor learning outcomes, low enrolment in secondary classes, high absenteeism\\nYoung children are not able to read or write. In fact many cannot recognize letters &\\ndigits.\\nDespite high enrolment in primary classes, the state of education is not enviable in the\\nstate.\\nHigh Levels of Unemployment\\nUnemployment in U.P.:\\n 58 per thousand VS Unemployment in India: 37 per thousand\\nUnemployment in Youth (18 to 29 Age group): \\n148 per 1000\\nPeople migrating for jobs to other states (B/w 2001 & 2011):\\n 5.8 million\\nReasons:\\n1\\n. \\nLow skill levels\\n2\\n. \\nLow educational attainment\\n3\\n. \\nLack of jobs\\nSteps taken:\\n Government has promised creation of 7 million jobs and Rs 1000 Cr\\ninvestment in startups in coming 5 years.\\nAccess to Electricity\\n40/41Power Cuts and non-electrification are a grievous issue in the state.\\nUnelectrified Rural households:\\n 51.8%\\nThis condition prevails in U.P. despite having third largest installed coal capacity in\\nIndia.\\nFactors:\\n1\\n. \\nCorruption\\n2\\n. \\nRed Tape within distribution companies\\nSedate Industrial Growth\\nIndustrial growth is among the lowest five states in U.P.\\nA lot of units of traditional industries have also shut down in past years.\\nStands on 20\\n position amongst 21 states on State Investment potential scale.\\nCause:\\n Shortage of electricity and vocationally trained people.\\nth\\n41/41\""
      ]
     },
     "execution_count": 9,
     "metadata": {},
     "output_type": "execute_result"
    }
   ],
   "source": [
    "raw_text"
   ]
  },
  {
   "cell_type": "markdown",
   "metadata": {
    "id": "5S0GgIQs4Rps"
   },
   "source": [
    "Initialize the connection to your database:\n",
    "\n",
    "_(do not worry if you see a few warnings, it's just that the drivers are chatty about negotiating protocol versions with the DB.)_"
   ]
  },
  {
   "cell_type": "code",
   "execution_count": 10,
   "metadata": {
    "executionInfo": {
     "elapsed": 1901,
     "status": "ok",
     "timestamp": 1742910999636,
     "user": {
      "displayName": "Suraj Gupta",
      "userId": "15529907204260272384"
     },
     "user_tz": -330
    },
    "id": "zFBR5HnZSPmK"
   },
   "outputs": [],
   "source": [
    "cassio.init(token=ASTRA_DB_APPLICATION_TOKEN, database_id=ASTRA_DB_ID)"
   ]
  },
  {
   "cell_type": "markdown",
   "metadata": {
    "id": "ex7NxZYb4Rps"
   },
   "source": [
    "Create the LangChain embedding and LLM objects for later usage:"
   ]
  },
  {
   "cell_type": "code",
   "execution_count": 11,
   "metadata": {
    "colab": {
     "base_uri": "https://localhost:8080/"
    },
    "executionInfo": {
     "elapsed": 949,
     "status": "ok",
     "timestamp": 1742911000587,
     "user": {
      "displayName": "Suraj Gupta",
      "userId": "15529907204260272384"
     },
     "user_tz": -330
    },
    "id": "TavS0AK2SLrL",
    "outputId": "5f9b54c4-cb36-478a-a0cd-46357dfaf97b"
   },
   "outputs": [
    {
     "name": "stderr",
     "output_type": "stream",
     "text": [
      "<ipython-input-11-9c33d76eff6b>:1: LangChainDeprecationWarning: The class `OpenAI` was deprecated in LangChain 0.0.10 and will be removed in 1.0. An updated version of the class exists in the :class:`~langchain-openai package and should be used instead. To use it run `pip install -U :class:`~langchain-openai` and import as `from :class:`~langchain_openai import OpenAI``.\n",
      "  llm = OpenAI(openai_api_key=OPENAI_API_KEY)\n",
      "<ipython-input-11-9c33d76eff6b>:2: LangChainDeprecationWarning: The class `OpenAIEmbeddings` was deprecated in LangChain 0.0.9 and will be removed in 1.0. An updated version of the class exists in the :class:`~langchain-openai package and should be used instead. To use it run `pip install -U :class:`~langchain-openai` and import as `from :class:`~langchain_openai import OpenAIEmbeddings``.\n",
      "  embedding = OpenAIEmbeddings(openai_api_key=OPENAI_API_KEY)\n"
     ]
    }
   ],
   "source": [
    "llm = OpenAI(openai_api_key=OPENAI_API_KEY)\n",
    "embedding = OpenAIEmbeddings(openai_api_key=OPENAI_API_KEY)"
   ]
  },
  {
   "cell_type": "markdown",
   "metadata": {
    "id": "9HMMx5Pm4Rpt"
   },
   "source": [
    "Create your LangChain vector store ... backed by Astra DB!"
   ]
  },
  {
   "cell_type": "code",
   "execution_count": 12,
   "metadata": {
    "executionInfo": {
     "elapsed": 178,
     "status": "ok",
     "timestamp": 1742911000764,
     "user": {
      "displayName": "Suraj Gupta",
      "userId": "15529907204260272384"
     },
     "user_tz": -330
    },
    "id": "bg9VAk4USQvU"
   },
   "outputs": [],
   "source": [
    "astra_vector_store = Cassandra(\n",
    "    embedding=embedding,\n",
    "    table_name=\"QA_Mini_Demo\",\n",
    "    session=None,\n",
    "    keyspace=None,\n",
    ")"
   ]
  },
  {
   "cell_type": "code",
   "execution_count": 13,
   "metadata": {
    "executionInfo": {
     "elapsed": 3,
     "status": "ok",
     "timestamp": 1742911000769,
     "user": {
      "displayName": "Suraj Gupta",
      "userId": "15529907204260272384"
     },
     "user_tz": -330
    },
    "id": "9FMAhKr77AVO"
   },
   "outputs": [],
   "source": [
    "from langchain.text_splitter import CharacterTextSplitter\n",
    "# We need to split the text using Character Text Split such that it should not increse token size\n",
    "text_splitter = CharacterTextSplitter(\n",
    "    separator = \"\\n\",\n",
    "    chunk_size = 800,\n",
    "    chunk_overlap  = 200,\n",
    "    length_function = len,\n",
    ")\n",
    "texts = text_splitter.split_text(raw_text)"
   ]
  },
  {
   "cell_type": "code",
   "execution_count": 14,
   "metadata": {
    "colab": {
     "base_uri": "https://localhost:8080/"
    },
    "executionInfo": {
     "elapsed": 12,
     "status": "ok",
     "timestamp": 1742911000783,
     "user": {
      "displayName": "Suraj Gupta",
      "userId": "15529907204260272384"
     },
     "user_tz": -330
    },
    "id": "k8BDHAyT7Gjr",
    "outputId": "5c031453-394b-4e09-a690-acb89774038a"
   },
   "outputs": [
    {
     "data": {
      "text/plain": [
       "['Uttar Pradesh\\ndrishtiias.com\\n/printpdf/know-your-state-uttar-pradesh\\nState:\\n Uttar Pradesh (U.P.)\\nFormed:\\n 1 April 1937-as United province\\nStatehood:\\n 26 January 1950-rechristened as Uttar Pradesh\\nCapital:\\n Lucknow\\nGovernor:\\n Ram Naik\\nChief Minister:\\n Yogi Adityanath\\nDeputy Chief Minister(s):\\n Kesav Prasad Maurya, Dr. Dinesh Sharma\\nOfficial language:\\n Hindi\\nOther languages: \\nUrdu, Awadhi, Bundeli, Bhojpuri, etc.\\nMajor Religions:\\n Hinduism, Islam\\nArea: \\n2,40,928 Square km (4th largest in India)\\nPopulation: \\n19,9,812,341 (Most populous in India)\\nPopulation density:\\n 829 per square km\\nSex Ratio:\\n 912 per thousand\\nLiteracy rate: \\n69.72%\\nMale literacy:\\n 79.24%\\nFemale literacy:\\n 59.26%\\n1/41GDP (2018-19):\\n Rs 14.89 Lakh Crore\\nHigh Court:\\n Allahabad High Court\\nDistricts:\\n 75\\nCities and Towns:\\n 915',\n",
       " '912 per thousand\\nLiteracy rate: \\n69.72%\\nMale literacy:\\n 79.24%\\nFemale literacy:\\n 59.26%\\n1/41GDP (2018-19):\\n Rs 14.89 Lakh Crore\\nHigh Court:\\n Allahabad High Court\\nDistricts:\\n 75\\nCities and Towns:\\n 915\\nDevelopment blocks:\\n 822\\nNagar Nigams:\\n 17\\nMembers of Lok Sabha from U.P.:\\n 80\\nMembers of Rajya Sabha from U.P.:\\n 31\\nMembers of Legislative Assembly: \\n404\\nMembers of Legislative Council: \\n100\\nState Animal:\\n Barasingha\\nState Bird: \\nSarus Crane\\nPrincipal Crops:\\n Paddy, Wheat,Barley, Millet, Maize, Urad (Black Gram), Moong (Green\\nGram) Arhar etc.\\nPrincipal Minerals:\\n Lime-Stone, Dolomite, Soap Stone, Gypsum, Bauxite, Glass-sand,\\nmanganese, Non-plastic fire clay etc.\\nPrincipal Handicrafts:\\n Chikan-work, Embroidery, wood work, wooden toys and furniture,',\n",
       " 'Lime-Stone, Dolomite, Soap Stone, Gypsum, Bauxite, Glass-sand,\\nmanganese, Non-plastic fire clay etc.\\nPrincipal Handicrafts:\\n Chikan-work, Embroidery, wood work, wooden toys and furniture,\\nClay -toys, carpet weaving, Silk & Brassware work.\\nPrincipal Folklores:\\n Birha, Chitee, Kajri, Phaag, Rasia, Alha, Pooran Bhagat, Bhartrahari\\nPrincipal Rivers:\\n Ganga, Yamuna, Gomti, Ram Ganga, Ghagra, Betwa, Ken\\nPrincipal Folkdances:\\n Charkula, Karma, Pandav, Pai-danda, Tharu, Dhobia, Raai, Shaira etc\\nPlaces of historical importance:\\n Piparhava, Kaushambi, Shravasti, Sarnath (varanasi),\\nkushinagar, Chitrakoot, Lucknow, Agra, Jhansi, Meerut etc\\nUttar Pradesh (U.P.) earlier christened as United Provinces is a state located in the \\nnorth-\\ncentral Gangetic plains of India',\n",
       " 'kushinagar, Chitrakoot, Lucknow, Agra, Jhansi, Meerut etc\\nUttar Pradesh (U.P.) earlier christened as United Provinces is a state located in the \\nnorth-\\ncentral Gangetic plains of India\\n. U.P. has always held a high political significance in Indian\\ndemocracy because it’s home to the \\nlargest share of Indian population\\n and it portrays\\ndynamic social demographics too. U.P. was created in the year 1937 by the British regime\\nunder the name of United Provinces and post independence it was renamed as Uttar\\n2/41pradesh in 1950. \\nLucknow\\n district serves as the capital of U.P.. A total of \\n18 divisions and\\n75 districts\\n constitute this state, whose northern portion was carved out in the year 2000 to\\nform Uttarakhand, the 27\\n state of India. Agriculture is the primary contributor in the',\n",
       " '18 divisions and\\n75 districts\\n constitute this state, whose northern portion was carved out in the year 2000 to\\nform Uttarakhand, the 27\\n state of India. Agriculture is the primary contributor in the\\neconomy of the state and it’s also known as the \\nRice bowl of India\\n.\\nState feature \\nhighly rugged terrain\\n and their \\nelevation ranges from 300 to 5000\\nmts\\n.\\nThe Siwalik range in U.P. plummets down to the \\nBhabhar area,\\n which is a \\nporous bed\\nof coarse pebbles and boulders\\n brought down by the rivers flowing down the Siwalik\\nhills.\\nThe river-streams tend to sink in these porous beds of sediments.\\nBhabhar tract lies along the periphery of Siwalik foothills and it transitions into the\\nTerai region gradually.\\nThis transition belt is termed \\n‘Terai and Bhabhar area’\\n and it is marked by \\nrich']"
      ]
     },
     "execution_count": 14,
     "metadata": {},
     "output_type": "execute_result"
    }
   ],
   "source": [
    "texts[:5]"
   ]
  },
  {
   "cell_type": "markdown",
   "metadata": {
    "id": "V1WK54-74Rpt"
   },
   "source": [
    "### Load the dataset into the vector store\n",
    "\n"
   ]
  },
  {
   "cell_type": "code",
   "execution_count": 15,
   "metadata": {
    "colab": {
     "base_uri": "https://localhost:8080/"
    },
    "executionInfo": {
     "elapsed": 3631,
     "status": "ok",
     "timestamp": 1742911004416,
     "user": {
      "displayName": "Suraj Gupta",
      "userId": "15529907204260272384"
     },
     "user_tz": -330
    },
    "id": "GX5BECsdSUUM",
    "outputId": "fdb3f94a-85b9-4ec1-e61f-b9972f6214ab"
   },
   "outputs": [
    {
     "name": "stdout",
     "output_type": "stream",
     "text": [
      "Inserted 104 headlines.\n"
     ]
    }
   ],
   "source": [
    "\n",
    "astra_vector_store.add_texts(texts)\n",
    "\n",
    "print(\"Inserted %i headlines.\" % len(texts))\n",
    "\n",
    "astra_vector_index = VectorStoreIndexWrapper(vectorstore=astra_vector_store)"
   ]
  },
  {
   "cell_type": "code",
   "execution_count": 15,
   "metadata": {
    "executionInfo": {
     "elapsed": 3,
     "status": "ok",
     "timestamp": 1742911004421,
     "user": {
      "displayName": "Suraj Gupta",
      "userId": "15529907204260272384"
     },
     "user_tz": -330
    },
    "id": "KhVf0kir2Uke"
   },
   "outputs": [],
   "source": []
  },
  {
   "cell_type": "markdown",
   "metadata": {
    "id": "oLJp8yPF4Rpt"
   },
   "source": [
    "### Run the QA cycle\n",
    "\n",
    "Simply run the cells and ask a question -- or `quit` to stop. (you can also stop execution with the \"▪\" button on the top toolbar)\n",
    "\n",
    "Here are some suggested questions:\n",
    "- _What is the current GDP of UP?_\n",
    "- _How much the agriculture target will be increased to and what the focus will be_ in UP?\n"
   ]
  },
  {
   "cell_type": "code",
   "execution_count": 16,
   "metadata": {
    "colab": {
     "base_uri": "https://localhost:8080/"
    },
    "executionInfo": {
     "elapsed": 26819,
     "status": "ok",
     "timestamp": 1742911031245,
     "user": {
      "displayName": "Suraj Gupta",
      "userId": "15529907204260272384"
     },
     "user_tz": -330
    },
    "id": "MbJugrh7SX3C",
    "outputId": "f9985f71-6069-4029-8ea5-400e50f12757"
   },
   "outputs": [
    {
     "name": "stdout",
     "output_type": "stream",
     "text": [
      "\n",
      "Enter your question (or type 'quit' to exit): What is the current GDP of UP?\n",
      "\n",
      "QUESTION: \"What is the current GDP of UP?\"\n"
     ]
    },
    {
     "name": "stderr",
     "output_type": "stream",
     "text": [
      "WARNING:cassandra.protocol:Server warning: Top-K queries can only be run with consistency level ONE / LOCAL_ONE / NODE_LOCAL. Consistency level LOCAL_QUORUM was requested. Downgrading the consistency level to LOCAL_ONE.\n"
     ]
    },
    {
     "name": "stdout",
     "output_type": "stream",
     "text": [
      "ANSWER: \"Rs 14.89 Lakh Crore\"\n",
      "\n",
      "\n",
      "What's your next question (or type 'quit' to exit): quit\n"
     ]
    }
   ],
   "source": [
    "first_question = True\n",
    "while True:\n",
    "    if first_question:\n",
    "        query_text = input(\"\\nEnter your question (or type 'quit' to exit): \").strip()\n",
    "    else:\n",
    "        query_text = input(\"\\nWhat's your next question (or type 'quit' to exit): \").strip()\n",
    "\n",
    "    if query_text.lower() == \"quit\":\n",
    "        break\n",
    "\n",
    "    if query_text == \"\":\n",
    "        continue\n",
    "\n",
    "    first_question = False\n",
    "\n",
    "    print(\"\\nQUESTION: \\\"%s\\\"\" % query_text)\n",
    "    answer = astra_vector_index.query(query_text, llm=llm).strip()\n",
    "    print(\"ANSWER: \\\"%s\\\"\\n\" % answer)"
   ]
  },
  {
   "cell_type": "code",
   "execution_count": 16,
   "metadata": {
    "executionInfo": {
     "elapsed": 1,
     "status": "ok",
     "timestamp": 1742911031248,
     "user": {
      "displayName": "Suraj Gupta",
      "userId": "15529907204260272384"
     },
     "user_tz": -330
    },
    "id": "dSaUPguw389l"
   },
   "outputs": [],
   "source": []
  }
 ],
 "metadata": {
  "colab": {
   "provenance": [
    {
     "file_id": "1U6OSjoLWjN21YHgmAVCg9aBEUxiUSY_W",
     "timestamp": 1742895425042
    },
    {
     "file_id": "https://github.com/awesome-astra/docs/blob/main/docs/pages/tools/notebooks/Quickstart_QA_Search_with_LangChain.ipynb",
     "timestamp": 1701442890926
    }
   ]
  },
  "kernelspec": {
   "display_name": "Python 3 (ipykernel)",
   "language": "python",
   "name": "python3"
  },
  "language_info": {
   "codemirror_mode": {
    "name": "ipython",
    "version": 3
   },
   "file_extension": ".py",
   "mimetype": "text/x-python",
   "name": "python",
   "nbconvert_exporter": "python",
   "pygments_lexer": "ipython3",
   "version": "3.10.12"
  }
 },
 "nbformat": 4,
 "nbformat_minor": 0
}
